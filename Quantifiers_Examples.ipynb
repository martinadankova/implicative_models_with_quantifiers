{
 "cells": [
  {
   "cell_type": "code",
   "execution_count": 3,
   "metadata": {
    "colab": {
     "base_uri": "https://localhost:8080/"
    },
    "executionInfo": {
     "elapsed": 20467,
     "status": "ok",
     "timestamp": 1695305569379,
     "user": {
      "displayName": "Martina Dankova",
      "userId": "16174493615995562743"
     },
     "user_tz": -120
    },
    "id": "UOpCHC2cB-6A",
    "outputId": "db4c1c67-9505-4b55-f78d-d6623ec696ac"
   },
   "outputs": [],
   "source": [
    "# from google.colab import drive\n",
    "# drive.mount('/content/drive/')"
   ]
  },
  {
   "cell_type": "code",
   "execution_count": 4,
   "metadata": {
    "executionInfo": {
     "elapsed": 371,
     "status": "ok",
     "timestamp": 1695307248907,
     "user": {
      "displayName": "Martina Dankova",
      "userId": "16174493615995562743"
     },
     "user_tz": -120
    },
    "id": "jmn2I-dYCQ8a"
   },
   "outputs": [
    {
     "name": "stdout",
     "output_type": "stream",
     "text": [
      "Current Working Directory:  d:\\Documents\\Python\\FuzzyModels\n"
     ]
    }
   ],
   "source": [
    "# import os\n",
    "# os.chdir('/content/drive/MyDrive/Colab Notebooks')\n",
    "import os\n",
    "# Verify the change\n",
    "print(\"Current Working Directory: \", os.getcwd())\n",
    "\n",
    "from definitions import quantifiers as qt\n",
    "import numpy as np\n",
    "import matplotlib.pyplot as plt\n",
    "from definitions import FuzzyRelations as fr\n",
    "from definitions import FuzzyRelations as sim\n",
    "import pandas as pd\n",
    "import matplotlib.pyplot as plt\n",
    "from definitions import models as md"
   ]
  },
  {
   "cell_type": "code",
   "execution_count": 12,
   "metadata": {
    "executionInfo": {
     "elapsed": 4,
     "status": "aborted",
     "timestamp": 1695305572047,
     "user": {
      "displayName": "Martina Dankova",
      "userId": "16174493615995562743"
     },
     "user_tz": -120
    },
    "id": "L79SN49lEqUF"
   },
   "outputs": [],
   "source": [
    "from definitions import quantifiers as qt\n",
    "from importlib import reload  # Python 3.4+\n",
    "import plotly.graph_objects as go\n",
    "import matplotlib.pyplot as plt\n",
    "from matplotlib import cm\n",
    "from matplotlib.ticker import LinearLocator\n",
    "from importlib import reload  # Python 3.4+\n",
    "\n",
    "#models = reload(models)\n",
    "#quantifiers = reload(quantifiers)\n",
    "\n",
    "df = pd.read_excel('data/funcnihodnoty.xlsx')\n",
    "datax=df['x']\n",
    "datavalx=df['fx']\n",
    "minx=datax.min()\n",
    "maxx=datax.max()\n",
    "minfx=datavalx.min()\n",
    "maxfx=datavalx.max()\n"
   ]
  },
  {
   "cell_type": "code",
   "execution_count": 13,
   "metadata": {
    "executionInfo": {
     "elapsed": 5,
     "status": "aborted",
     "timestamp": 1695305572048,
     "user": {
      "displayName": "Martina Dankova",
      "userId": "16174493615995562743"
     },
     "user_tz": -120
    },
    "id": "1S-4j1lwCeg2"
   },
   "outputs": [
    {
     "data": {
      "image/png": "[encoded data removed]",
      "text/plain": [
       "<Figure size 432x288 with 1 Axes>"
      ]
     },
     "metadata": {
      "needs_background": "light"
     },
     "output_type": "display_data"
    },
    {
     "data": {
      "image/png": "[encoded data removed]",
      "text/plain": [
       "<Figure size 432x288 with 1 Axes>"
      ]
     },
     "metadata": {
      "needs_background": "light"
     },
     "output_type": "display_data"
    }
   ],
   "source": [
    "import plotly.graph_objects as go\n",
    "import matplotlib.pyplot as plt\n",
    "from matplotlib import cm\n",
    "from matplotlib.ticker import LinearLocator\n",
    "\n",
    "df = pd.read_excel('data/funcnihodnoty.xlsx')\n",
    "datax=df['x']\n",
    "datavalx=df['fx']\n",
    "minx=datax.min()\n",
    "maxx=datax.max()\n",
    "minfx=datavalx.min()\n",
    "maxfx=datavalx.max()\n",
    "disx=100\n",
    "x=[k*(maxx/disx) for k in range(0,disx)]\n",
    "disy=100\n",
    "y=[k*(maxfx/disy) for k in range(0,disy)]\n",
    "\n",
    "# Ax=fr.finterval(x,2.5,3.5,3)\n",
    "Ax=fr.finterval(x,4.5,5.5,3)\n",
    "Bx=fr.finterval(y,10,20,1)\n",
    "Cx=fr.finterval(y,0,5,1)\n",
    "fig1 = plt.figure()\n",
    "plt.plot(x,Ax,'orange')\n",
    "plt.show()\n",
    "\n",
    "plt.plot(y,Bx)\n",
    "plt.plot(y,Cx)\n",
    "plt.plot(y,Bx, 'g', y,Cx, 'b')\n",
    "plt.show()"
   ]
  },
  {
   "cell_type": "code",
   "execution_count": 15,
   "metadata": {
    "executionInfo": {
     "elapsed": 25024,
     "status": "aborted",
     "timestamp": 1695305572048,
     "user": {
      "displayName": "Martina Dankova",
      "userId": "16174493615995562743"
     },
     "user_tz": -120
    },
    "id": "0yx0UskcCjtx"
   },
   "outputs": [
    {
     "name": "stdout",
     "output_type": "stream",
     "text": [
      "[ 6.61  6.79  8.76 43.84] [ 2.95 10.45 23.8  28.8 ]\n",
      "0.49 0.57 0.96 0.99 0.97\n",
      "0.22 0.34 0.19 0.44 0.28\n"
     ]
    }
   ],
   "source": [
    "from definitions import quantifiers as qt\n",
    "from importlib import reload  # Python 3.4+\n",
    "import plotly.graph_objects as go\n",
    "import matplotlib.pyplot as plt\n",
    "from matplotlib import cm\n",
    "from matplotlib.ticker import LinearLocator\n",
    "from importlib import reload  # Python 3.4+\n",
    "\n",
    "#models = reload(models)\n",
    "#quantifiers = reload(quantifiers)\n",
    "\n",
    "df = pd.read_excel('data/funcnihodnoty.xlsx')\n",
    "datax=df['x']\n",
    "datavalx=df['fx']\n",
    "minx=datax.min()\n",
    "maxx=datax.max()\n",
    "minfx=datavalx.min()\n",
    "maxfx=datavalx.max()\n",
    "#print(minx,maxx,minfx,maxfx)\n",
    "# Ax=[4,5]~ Bx=[10,20]\n",
    "Ax=fr.finterval(datax,2.5,3.5,3)\n",
    "Bx=fr.finterval(datavalx,10,20,1)\n",
    "Cx=fr.finterval(datavalx,0,5,1)\n",
    "AB=qt.fourftable(Ax,Bx)\n",
    "AC=qt.fourftable(Ax,Cx)\n",
    "print(AB,AC)\n",
    "q1=qt.QConfidence(AB[0],AB[1])\n",
    "q2=qt.QimplL(AB[0],AB[1])\n",
    "q3=qt.QimplP(AB[0],AB[1])\n",
    "q4=qt.QImplRatioL(AB[0],AB[1])\n",
    "q5=qt.QImplRatioP(AB[0],AB[1])\n",
    "\n",
    "q11=qt.QConfidence(AC[0],AC[1])\n",
    "q21=qt.QimplL(AC[0],AC[1])\n",
    "q31=qt.QimplP(AC[0],AC[1])\n",
    "q41=qt.QImplRatioL(AC[0],AC[1])\n",
    "q51=qt.QImplRatioP(AC[0],AC[1])\n",
    "\n",
    "print(q1,q2,q3,q4,q5)\n",
    "print(q11,q21,q31,q41,q51)\n",
    "\n",
    "\n",
    "# plt.figure()\n",
    "# df.plot(x ='x', y='fx', kind = 'scatter')\n",
    "\n"
   ]
  }
 ],
 "metadata": {
  "colab": {
   "authorship_tag": "ABX9TyOfIsMLLBr+5Iq07BBQ/gG2",
   "provenance": []
  },
  "kernelspec": {
   "display_name": "Python 3",
   "name": "python3"
  },
  "language_info": {
   "codemirror_mode": {
    "name": "ipython",
    "version": 3
   },
   "file_extension": ".py",
   "mimetype": "text/x-python",
   "name": "python",
   "nbconvert_exporter": "python",
   "pygments_lexer": "ipython3",
   "version": "3.9.13"
  }
 },
 "nbformat": 4,
 "nbformat_minor": 0
}
